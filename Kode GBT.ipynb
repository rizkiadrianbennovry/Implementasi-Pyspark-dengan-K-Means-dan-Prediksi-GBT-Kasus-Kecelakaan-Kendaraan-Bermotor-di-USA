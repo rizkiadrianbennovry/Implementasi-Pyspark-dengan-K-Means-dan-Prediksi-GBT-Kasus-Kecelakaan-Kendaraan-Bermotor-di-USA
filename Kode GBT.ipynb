{
  "cells": [
    {
      "cell_type": "code",
      "source": [
        "from google.colab import drive\n",
        "drive.mount('/content/drive')"
      ],
      "metadata": {
        "colab": {
          "base_uri": "https://localhost:8080/"
        },
        "id": "UXbz4rOANdtq",
        "outputId": "444d24d8-aa8e-4232-d4ae-df7c712f7d37"
      },
      "execution_count": 2,
      "outputs": [
        {
          "output_type": "stream",
          "name": "stdout",
          "text": [
            "Mounted at /content/drive\n"
          ]
        }
      ]
    },
    {
      "cell_type": "code",
      "execution_count": 3,
      "metadata": {
        "colab": {
          "base_uri": "https://localhost:8080/"
        },
        "id": "JnoVrRG1Navi",
        "outputId": "5c83e12d-96af-421f-a065-1a928e49ac56"
      },
      "outputs": [
        {
          "output_type": "stream",
          "name": "stdout",
          "text": [
            "Collecting pyspark\n",
            "  Downloading pyspark-3.5.1.tar.gz (317.0 MB)\n",
            "\u001b[2K     \u001b[90m━━━━━━━━━━━━━━━━━━━━━━━━━━━━━━━━━━━━━━━━\u001b[0m \u001b[32m317.0/317.0 MB\u001b[0m \u001b[31m2.5 MB/s\u001b[0m eta \u001b[36m0:00:00\u001b[0m\n",
            "\u001b[?25h  Preparing metadata (setup.py) ... \u001b[?25l\u001b[?25hdone\n",
            "Requirement already satisfied: py4j==0.10.9.7 in /usr/local/lib/python3.10/dist-packages (from pyspark) (0.10.9.7)\n",
            "Building wheels for collected packages: pyspark\n",
            "  Building wheel for pyspark (setup.py) ... \u001b[?25l\u001b[?25hdone\n",
            "  Created wheel for pyspark: filename=pyspark-3.5.1-py2.py3-none-any.whl size=317488491 sha256=a72c1c65923018cb2ae2c8376a57a1ffca32c2189e12ad731ccc4a7a0f04fbec\n",
            "  Stored in directory: /root/.cache/pip/wheels/80/1d/60/2c256ed38dddce2fdd93be545214a63e02fbd8d74fb0b7f3a6\n",
            "Successfully built pyspark\n",
            "Installing collected packages: pyspark\n",
            "Successfully installed pyspark-3.5.1\n"
          ]
        }
      ],
      "source": [
        "!pip install pyspark"
      ]
    },
    {
      "cell_type": "code",
      "execution_count": 143,
      "metadata": {
        "id": "BGNbTcUmNavj"
      },
      "outputs": [],
      "source": [
        "from pyspark.sql import SparkSession\n",
        "from pyspark.ml.stat import Correlation\n",
        "from pyspark.ml.feature import VectorAssembler\n",
        "from pyspark.sql.types import *\n",
        "from pyspark.sql.functions import *\n",
        "from pyspark.sql.functions import mean as _mean, stddev as _stddev, col, udf\n",
        "from pyspark.sql.types import FloatType, StructType, ArrayType"
      ]
    },
    {
      "cell_type": "code",
      "execution_count": 144,
      "metadata": {
        "id": "Ft0RuqksNavl"
      },
      "outputs": [],
      "source": [
        "spark = SparkSession.builder \\\n",
        "    .appName(\"Motor Vehicle Collisions Analysis\") \\\n",
        "    .getOrCreate()\n"
      ]
    },
    {
      "cell_type": "code",
      "execution_count": 145,
      "metadata": {
        "id": "2hrq4QxfNavl"
      },
      "outputs": [],
      "source": [
        "data_path = \"/content/drive/MyDrive/Motor_Vehicle_Collisions_-_Crashes.csv\"\n",
        "df = spark.read.csv(data_path, header=True, inferSchema=True)"
      ]
    },
    {
      "cell_type": "code",
      "execution_count": 146,
      "metadata": {
        "colab": {
          "base_uri": "https://localhost:8080/"
        },
        "id": "-GosQrZhNavm",
        "outputId": "d3a9685f-30e8-4db6-f319-708741e86605"
      },
      "outputs": [
        {
          "output_type": "stream",
          "name": "stdout",
          "text": [
            "root\n",
            " |-- CRASH DATE: string (nullable = true)\n",
            " |-- CRASH TIME: string (nullable = true)\n",
            " |-- BOROUGH: string (nullable = true)\n",
            " |-- ZIP CODE: integer (nullable = true)\n",
            " |-- LATITUDE: double (nullable = true)\n",
            " |-- LONGITUDE: string (nullable = true)\n",
            " |-- LOCATION: string (nullable = true)\n",
            " |-- ON STREET NAME: string (nullable = true)\n",
            " |-- CROSS STREET NAME: string (nullable = true)\n",
            " |-- OFF STREET NAME: string (nullable = true)\n",
            " |-- NUMBER OF PERSONS INJURED: string (nullable = true)\n",
            " |-- NUMBER OF PERSONS KILLED: integer (nullable = true)\n",
            " |-- NUMBER OF PEDESTRIANS INJURED: integer (nullable = true)\n",
            " |-- NUMBER OF PEDESTRIANS KILLED: integer (nullable = true)\n",
            " |-- NUMBER OF CYCLIST INJURED: integer (nullable = true)\n",
            " |-- NUMBER OF CYCLIST KILLED: string (nullable = true)\n",
            " |-- NUMBER OF MOTORIST INJURED: string (nullable = true)\n",
            " |-- NUMBER OF MOTORIST KILLED: integer (nullable = true)\n",
            " |-- CONTRIBUTING FACTOR VEHICLE 1: string (nullable = true)\n",
            " |-- CONTRIBUTING FACTOR VEHICLE 2: string (nullable = true)\n",
            " |-- CONTRIBUTING FACTOR VEHICLE 3: string (nullable = true)\n",
            " |-- CONTRIBUTING FACTOR VEHICLE 4: string (nullable = true)\n",
            " |-- CONTRIBUTING FACTOR VEHICLE 5: string (nullable = true)\n",
            " |-- COLLISION_ID: integer (nullable = true)\n",
            " |-- VEHICLE TYPE CODE 1: string (nullable = true)\n",
            " |-- VEHICLE TYPE CODE 2: string (nullable = true)\n",
            " |-- VEHICLE TYPE CODE 3: string (nullable = true)\n",
            " |-- VEHICLE TYPE CODE 4: string (nullable = true)\n",
            " |-- VEHICLE TYPE CODE 5: string (nullable = true)\n",
            "\n"
          ]
        }
      ],
      "source": [
        "df.printSchema()"
      ]
    },
    {
      "cell_type": "code",
      "execution_count": 148,
      "metadata": {
        "colab": {
          "base_uri": "https://localhost:8080/"
        },
        "id": "OWWBwIrXNavm",
        "outputId": "6893ca7a-db77-4133-9655-066162d7db74"
      },
      "outputs": [
        {
          "output_type": "stream",
          "name": "stdout",
          "text": [
            "root\n",
            " |-- CRASH DATE: date (nullable = true)\n",
            " |-- CRASH TIME: string (nullable = true)\n",
            " |-- BOROUGH: string (nullable = true)\n",
            " |-- ZIP CODE: integer (nullable = true)\n",
            " |-- LATITUDE: double (nullable = true)\n",
            " |-- LONGITUDE: string (nullable = true)\n",
            " |-- LOCATION: string (nullable = true)\n",
            " |-- ON STREET NAME: string (nullable = true)\n",
            " |-- CROSS STREET NAME: string (nullable = true)\n",
            " |-- OFF STREET NAME: string (nullable = true)\n",
            " |-- NUMBER OF PERSONS INJURED: string (nullable = true)\n",
            " |-- NUMBER OF PERSONS KILLED: integer (nullable = true)\n",
            " |-- NUMBER OF PEDESTRIANS INJURED: integer (nullable = true)\n",
            " |-- NUMBER OF PEDESTRIANS KILLED: integer (nullable = true)\n",
            " |-- NUMBER OF CYCLIST INJURED: integer (nullable = true)\n",
            " |-- NUMBER OF CYCLIST KILLED: string (nullable = true)\n",
            " |-- NUMBER OF MOTORIST INJURED: string (nullable = true)\n",
            " |-- NUMBER OF MOTORIST KILLED: integer (nullable = true)\n",
            " |-- CONTRIBUTING FACTOR VEHICLE 1: string (nullable = true)\n",
            " |-- CONTRIBUTING FACTOR VEHICLE 2: string (nullable = true)\n",
            " |-- CONTRIBUTING FACTOR VEHICLE 3: string (nullable = true)\n",
            " |-- CONTRIBUTING FACTOR VEHICLE 4: string (nullable = true)\n",
            " |-- CONTRIBUTING FACTOR VEHICLE 5: string (nullable = true)\n",
            " |-- COLLISION_ID: integer (nullable = true)\n",
            " |-- VEHICLE TYPE CODE 1: string (nullable = true)\n",
            " |-- VEHICLE TYPE CODE 2: string (nullable = true)\n",
            " |-- VEHICLE TYPE CODE 3: string (nullable = true)\n",
            " |-- VEHICLE TYPE CODE 4: string (nullable = true)\n",
            " |-- VEHICLE TYPE CODE 5: string (nullable = true)\n",
            " |-- CRASH TIMESTAMP: timestamp (nullable = true)\n",
            " |-- YEAR: integer (nullable = true)\n",
            " |-- MONTH: integer (nullable = true)\n",
            " |-- HOUR: integer (nullable = true)\n",
            "\n"
          ]
        }
      ],
      "source": [
        "# Mengonversi kolom 'CRASH DATE' menjadi tipe Date dengan format yang sesuai\n",
        "df = df.withColumn(\"CRASH DATE\", to_date(col(\"CRASH DATE\"), \"MM/dd/yyyy\"))\n",
        "\n",
        "# Menggabungkan kolom tanggal dan waktu menjadi satu string timestamp\n",
        "df = df.withColumn(\"CRASH TIMESTAMP\", concat_ws(\" \", col(\"CRASH DATE\"), col(\"CRASH TIME\")))\n",
        "\n",
        "# Mengonversi string timestamp ke tipe timestamp\n",
        "df = df.withColumn(\"CRASH TIMESTAMP\", to_timestamp(col(\"CRASH TIMESTAMP\"), \"yyyy-MM-dd H:mm\"))\n",
        "\n",
        "# Menambahkan kolom tahun dengan menggunakan fungsi year\n",
        "df = df.withColumn(\"YEAR\", year(col(\"CRASH TIMESTAMP\")))\n",
        "\n",
        "# Menambahkan kolom tahun dengan menggunakan fungsi month\n",
        "df = df.withColumn(\"MONTH\", month(col(\"CRASH TIMESTAMP\")))\n",
        "\n",
        "# Menambahkan kolom tahun dengan menggunakan fungsi Hour\n",
        "df = df.withColumn(\"HOUR\", hour(col(\"CRASH TIMESTAMP\")))\n",
        "\n",
        "df.printSchema()"
      ]
    },
    {
      "cell_type": "markdown",
      "metadata": {
        "id": "9jmTbKSFNavm"
      },
      "source": [
        "# EDA"
      ]
    },
    {
      "cell_type": "markdown",
      "metadata": {
        "id": "JvWJYrZSNavo"
      },
      "source": [
        "## Hotspot kecelakaan"
      ]
    },
    {
      "cell_type": "code",
      "execution_count": 149,
      "metadata": {
        "colab": {
          "base_uri": "https://localhost:8080/"
        },
        "id": "t7JepzsTNavo",
        "outputId": "4ee51482-0e89-4340-abab-7b364e7fc905"
      },
      "outputs": [
        {
          "output_type": "stream",
          "name": "stdout",
          "text": [
            "+-------------+------+\n",
            "|      BOROUGH| count|\n",
            "+-------------+------+\n",
            "|     BROOKLYN|280146|\n",
            "|       QUEENS|238439|\n",
            "|    MANHATTAN|181268|\n",
            "|        BRONX|136921|\n",
            "|STATEN ISLAND| 33243|\n",
            "+-------------+------+\n",
            "only showing top 5 rows\n",
            "\n"
          ]
        }
      ],
      "source": [
        "hotspots = df.groupBy(\"BOROUGH\").count().orderBy(count(\"BOROUGH\").desc())\n",
        "hotspots.show(5)"
      ]
    },
    {
      "cell_type": "markdown",
      "metadata": {
        "id": "O2BkNuzCNavo"
      },
      "source": [
        "## WAKTU KECELAKAAN"
      ]
    },
    {
      "cell_type": "code",
      "execution_count": 150,
      "metadata": {
        "colab": {
          "base_uri": "https://localhost:8080/"
        },
        "id": "Sc0TPajcNavo",
        "outputId": "e6fe41da-7d6a-43c2-cd1b-a2f22f8169b4"
      },
      "outputs": [
        {
          "output_type": "stream",
          "name": "stdout",
          "text": [
            "+----+-----+\n",
            "|HOUR|count|\n",
            "+----+-----+\n",
            "|  16|94671|\n",
            "|  17|93386|\n",
            "|  14|88483|\n",
            "|  15|83942|\n",
            "|  18|81684|\n",
            "+----+-----+\n",
            "only showing top 5 rows\n",
            "\n"
          ]
        }
      ],
      "source": [
        "time_analysis = df.groupBy(\"HOUR\").count().orderBy(count(\"HOUR\").desc())\n",
        "time_analysis.show(5)"
      ]
    },
    {
      "cell_type": "code",
      "execution_count": 151,
      "metadata": {
        "colab": {
          "base_uri": "https://localhost:8080/"
        },
        "id": "XFsKfKJ2Navp",
        "outputId": "2e60a859-94b8-46a6-f471-d8dc33f1c286"
      },
      "outputs": [
        {
          "output_type": "stream",
          "name": "stdout",
          "text": [
            "+----+------+\n",
            "|YEAR| count|\n",
            "+----+------+\n",
            "|2018|231562|\n",
            "|2017|231007|\n",
            "|2016|229822|\n",
            "|2019|211486|\n",
            "|2015|126933|\n",
            "+----+------+\n",
            "only showing top 5 rows\n",
            "\n"
          ]
        }
      ],
      "source": [
        "time_analysis = df.groupBy(\"YEAR\").count().orderBy(count(\"YEAR\").desc())\n",
        "time_analysis.show(5)"
      ]
    },
    {
      "cell_type": "code",
      "execution_count": 152,
      "metadata": {
        "colab": {
          "base_uri": "https://localhost:8080/"
        },
        "id": "PsBXKrsSNavp",
        "outputId": "0efc78db-2287-4ec3-c59b-df0a265a2231"
      },
      "outputs": [
        {
          "output_type": "stream",
          "name": "stdout",
          "text": [
            "+-----+------+\n",
            "|MONTH| count|\n",
            "+-----+------+\n",
            "|    7|124536|\n",
            "|    8|122716|\n",
            "|    6|122197|\n",
            "|   10|118271|\n",
            "|    9|114633|\n",
            "+-----+------+\n",
            "only showing top 5 rows\n",
            "\n"
          ]
        }
      ],
      "source": [
        "time_analysis = df.groupBy(\"MONTH\").count().orderBy(count(\"MONTH\").desc())\n",
        "time_analysis.show(5)"
      ]
    },
    {
      "cell_type": "markdown",
      "metadata": {
        "id": "iMzHlI_JNavp"
      },
      "source": [
        "## PENYEBAB KECELAKAAN"
      ]
    },
    {
      "cell_type": "code",
      "execution_count": 153,
      "metadata": {
        "colab": {
          "base_uri": "https://localhost:8080/"
        },
        "id": "RbA2nrqmNavq",
        "outputId": "6cde6f70-b6dd-4895-f3e8-d68bf5260c08"
      },
      "outputs": [
        {
          "output_type": "stream",
          "name": "stdout",
          "text": [
            "+-----------------------------+------+\n",
            "|CONTRIBUTING FACTOR VEHICLE 1| count|\n",
            "+-----------------------------+------+\n",
            "|                  Unspecified|342029|\n",
            "|         Driver Inattentio...|307773|\n",
            "|         Following Too Clo...|101102|\n",
            "|         Failure to Yield ...| 87462|\n",
            "|             Backing Unsafely| 56041|\n",
            "+-----------------------------+------+\n",
            "only showing top 5 rows\n",
            "\n"
          ]
        }
      ],
      "source": [
        "causes = df.groupBy(\"CONTRIBUTING FACTOR VEHICLE 1\").count().orderBy(count('CONTRIBUTING FACTOR VEHICLE 1').desc())\n",
        "causes.show(5)"
      ]
    },
    {
      "cell_type": "markdown",
      "metadata": {
        "id": "0GAjJoOZNavq"
      },
      "source": [
        "## JENIS KENDARAAN YANG TERLIBAT"
      ]
    },
    {
      "cell_type": "code",
      "execution_count": 154,
      "metadata": {
        "colab": {
          "base_uri": "https://localhost:8080/"
        },
        "id": "0vN-MtvSNavq",
        "outputId": "6ea80d4c-b6b2-4d41-e8ec-a3a3f379c6ac"
      },
      "outputs": [
        {
          "output_type": "stream",
          "name": "stdout",
          "text": [
            "+--------------------+------+\n",
            "| VEHICLE TYPE CODE 1| count|\n",
            "+--------------------+------+\n",
            "|               Sedan|507562|\n",
            "|Station Wagon/Spo...|401219|\n",
            "|   PASSENGER VEHICLE| 86590|\n",
            "|                Taxi| 47583|\n",
            "|SPORT UTILITY / S...| 43265|\n",
            "+--------------------+------+\n",
            "only showing top 5 rows\n",
            "\n"
          ]
        }
      ],
      "source": [
        "vehicle_types = df.groupBy('VEHICLE TYPE CODE 1').count().orderBy(count('VEHICLE TYPE CODE 1').desc())\n",
        "vehicle_types.show(5)"
      ]
    },
    {
      "cell_type": "markdown",
      "metadata": {
        "id": "x36FrqMrNavq"
      },
      "source": [
        "## HUBUNGAN ANTARA FAKTOR PENYEBAB DAN JENIS KENDARAAN"
      ]
    },
    {
      "cell_type": "code",
      "execution_count": 155,
      "metadata": {
        "colab": {
          "base_uri": "https://localhost:8080/"
        },
        "id": "GBpdf1MLNavq",
        "outputId": "f6d3a557-085a-45cd-94df-8a6016e1a24b"
      },
      "outputs": [
        {
          "output_type": "stream",
          "name": "stdout",
          "text": [
            "+-----------------------------+--------------------+------+\n",
            "|CONTRIBUTING FACTOR VEHICLE 1| VEHICLE TYPE CODE 1| count|\n",
            "+-----------------------------+--------------------+------+\n",
            "|                  Unspecified|               Sedan|126891|\n",
            "|         Driver Inattentio...|               Sedan|122703|\n",
            "|         Driver Inattentio...|Station Wagon/Spo...|100512|\n",
            "|                  Unspecified|Station Wagon/Spo...| 90167|\n",
            "|         Following Too Clo...|               Sedan| 43648|\n",
            "+-----------------------------+--------------------+------+\n",
            "only showing top 5 rows\n",
            "\n"
          ]
        }
      ],
      "source": [
        "cause_vehicle_relation = df.groupBy('CONTRIBUTING FACTOR VEHICLE 1', 'VEHICLE TYPE CODE 1').count().orderBy(count('CONTRIBUTING FACTOR VEHICLE 1').desc())\n",
        "cause_vehicle_relation.show(5)"
      ]
    },
    {
      "cell_type": "markdown",
      "metadata": {
        "id": "xonfFySQNavr"
      },
      "source": [
        "# MODELING"
      ]
    },
    {
      "cell_type": "code",
      "execution_count": 156,
      "metadata": {
        "colab": {
          "base_uri": "https://localhost:8080/"
        },
        "id": "OaHr1O4iNavr",
        "outputId": "6a1aa5d2-5ca4-4a9f-d830-42b3f7e62d1a"
      },
      "outputs": [
        {
          "output_type": "stream",
          "name": "stdout",
          "text": [
            "root\n",
            " |-- CRASH DATE: date (nullable = true)\n",
            " |-- YEAR: integer (nullable = true)\n",
            " |-- MONTH: integer (nullable = true)\n",
            " |-- HOUR: integer (nullable = true)\n",
            " |-- COLLISION_ID: integer (nullable = true)\n",
            " |-- BOROUGH: string (nullable = true)\n",
            " |-- NUMBER OF PERSONS INJURED: string (nullable = true)\n",
            " |-- NUMBER OF PERSONS KILLED: integer (nullable = true)\n",
            " |-- NUMBER OF PEDESTRIANS INJURED: integer (nullable = true)\n",
            " |-- NUMBER OF PEDESTRIANS KILLED: integer (nullable = true)\n",
            " |-- NUMBER OF CYCLIST INJURED: integer (nullable = true)\n",
            " |-- NUMBER OF CYCLIST KILLED: string (nullable = true)\n",
            " |-- NUMBER OF MOTORIST INJURED: string (nullable = true)\n",
            " |-- NUMBER OF MOTORIST KILLED: integer (nullable = true)\n",
            " |-- CONTRIBUTING FACTOR VEHICLE 1: string (nullable = true)\n",
            "\n"
          ]
        }
      ],
      "source": [
        "selected_columns = ['CRASH DATE','YEAR', 'MONTH', 'HOUR','COLLISION_ID', 'BOROUGH','NUMBER OF PERSONS INJURED', 'NUMBER OF PERSONS KILLED', 'NUMBER OF PEDESTRIANS INJURED', 'NUMBER OF PEDESTRIANS KILLED', 'NUMBER OF CYCLIST INJURED', 'NUMBER OF CYCLIST KILLED', 'NUMBER OF MOTORIST INJURED', 'NUMBER OF MOTORIST KILLED', 'CONTRIBUTING FACTOR VEHICLE 1']\n",
        "df = df.select(selected_columns)\n",
        "df.printSchema()"
      ]
    },
    {
      "cell_type": "markdown",
      "metadata": {
        "id": "d4wApdH5Navr"
      },
      "source": [
        "## AGGREGATING"
      ]
    },
    {
      "cell_type": "code",
      "execution_count": 157,
      "metadata": {
        "id": "TOU4O6PgNavr"
      },
      "outputs": [],
      "source": [
        "# Summing up the injury and fatality related columns\n",
        "df = df.withColumn('Total Injured',\n",
        "                              col('NUMBER OF PERSONS INJURED') +\n",
        "                              col('NUMBER OF PEDESTRIANS INJURED') +\n",
        "                              col('NUMBER OF CYCLIST INJURED') +\n",
        "                              col('NUMBER OF MOTORIST INJURED')) \\\n",
        "                  .withColumn('Total Killed',\n",
        "                              col('NUMBER OF PERSONS KILLED') +\n",
        "                              col('NUMBER OF PEDESTRIANS KILLED') +\n",
        "                              col('NUMBER OF CYCLIST KILLED') +\n",
        "                              col('NUMBER OF MOTORIST KILLED'))"
      ]
    },
    {
      "cell_type": "code",
      "execution_count": 158,
      "metadata": {
        "colab": {
          "base_uri": "https://localhost:8080/"
        },
        "id": "ugwLS8pNNavr",
        "outputId": "9dba80e8-9eee-4ce2-caef-c6fdaf65eff8"
      },
      "outputs": [
        {
          "output_type": "stream",
          "name": "stdout",
          "text": [
            "root\n",
            " |-- CRASH DATE: date (nullable = true)\n",
            " |-- YEAR: integer (nullable = true)\n",
            " |-- MONTH: integer (nullable = true)\n",
            " |-- HOUR: integer (nullable = true)\n",
            " |-- COLLISION_ID: integer (nullable = true)\n",
            " |-- BOROUGH: string (nullable = true)\n",
            " |-- NUMBER OF PERSONS INJURED: string (nullable = true)\n",
            " |-- NUMBER OF PERSONS KILLED: integer (nullable = true)\n",
            " |-- NUMBER OF PEDESTRIANS INJURED: integer (nullable = true)\n",
            " |-- NUMBER OF PEDESTRIANS KILLED: integer (nullable = true)\n",
            " |-- NUMBER OF CYCLIST INJURED: integer (nullable = true)\n",
            " |-- NUMBER OF CYCLIST KILLED: string (nullable = true)\n",
            " |-- NUMBER OF MOTORIST INJURED: string (nullable = true)\n",
            " |-- NUMBER OF MOTORIST KILLED: integer (nullable = true)\n",
            " |-- CONTRIBUTING FACTOR VEHICLE 1: string (nullable = true)\n",
            " |-- Total Injured: double (nullable = true)\n",
            " |-- Total Killed: double (nullable = true)\n",
            "\n"
          ]
        }
      ],
      "source": [
        "df.printSchema()"
      ]
    },
    {
      "cell_type": "code",
      "execution_count": 159,
      "metadata": {
        "colab": {
          "base_uri": "https://localhost:8080/"
        },
        "id": "Nk2HTnuTNavs",
        "outputId": "efa41107-a005-4442-bf48-210d722b6177"
      },
      "outputs": [
        {
          "output_type": "stream",
          "name": "stdout",
          "text": [
            "+-----+----+------------------+-----------------+\n",
            "|MONTH|YEAR|sum(Total Injured)|sum(Total Killed)|\n",
            "+-----+----+------------------+-----------------+\n",
            "|   11|2023|              71.0|              3.0|\n",
            "|    6|2016|           11299.0|             58.0|\n",
            "|    8|2012|               2.0|              0.0|\n",
            "|    7|2018|           10982.0|             34.0|\n",
            "|   11|2021|            8819.0|             46.0|\n",
            "|    5|2023|             116.0|              0.0|\n",
            "|    5|2022|            9167.0|             53.0|\n",
            "|    9|2023|               7.0|              2.0|\n",
            "|    6|2018|           11231.0|             42.0|\n",
            "|   12|2020|            6848.0|             42.0|\n",
            "|    3|2018|            9507.0|             38.0|\n",
            "|    6|2019|           11850.0|             46.0|\n",
            "|    7|2021|            9403.0|             57.0|\n",
            "|    9|2019|           10624.0|             42.0|\n",
            "|    4|2021|            8026.0|             52.0|\n",
            "+-----+----+------------------+-----------------+\n",
            "only showing top 15 rows\n",
            "\n"
          ]
        }
      ],
      "source": [
        "timeSeriesDf = df.groupBy('MONTH', 'YEAR').sum( 'Total Injured', 'Total Killed')\n",
        "timeSeriesDf.show(15)"
      ]
    },
    {
      "cell_type": "code",
      "execution_count": 160,
      "metadata": {
        "colab": {
          "base_uri": "https://localhost:8080/"
        },
        "id": "HUftyLgRNavs",
        "outputId": "4f7c91d8-f8d4-4da7-ed3f-bff7aa7e216b"
      },
      "outputs": [
        {
          "output_type": "stream",
          "name": "stdout",
          "text": [
            "root\n",
            " |-- MONTH: string (nullable = true)\n",
            " |-- YEAR: string (nullable = true)\n",
            " |-- sum(Total Injured): double (nullable = true)\n",
            " |-- sum(Total Killed): double (nullable = true)\n",
            " |-- timestamp: timestamp (nullable = true)\n",
            "\n"
          ]
        }
      ],
      "source": [
        "columns_to_cast=[\"MONTH\", \"YEAR\"]\n",
        "\n",
        "for col_name in columns_to_cast:\n",
        "    timeSeriesDf = timeSeriesDf.withColumn(col_name, col(col_name).cast(\"string\"))\n",
        "\n",
        "# Menambahkan kolom \"timestamp\"\n",
        "timeSeriesDf = timeSeriesDf.withColumn(\"timestamp\",\n",
        "                   to_timestamp(concat(col(\"YEAR\"), lit(\"-\"), col(\"MONTH\"), lit(\"-30\"))))\n",
        "\n",
        "timeSeriesDf.printSchema()"
      ]
    },
    {
      "cell_type": "code",
      "execution_count": 161,
      "metadata": {
        "colab": {
          "base_uri": "https://localhost:8080/"
        },
        "id": "JQGGYtm9Navs",
        "outputId": "bb6e3106-aa27-4c86-e292-1b27ea699d2d"
      },
      "outputs": [
        {
          "output_type": "stream",
          "name": "stdout",
          "text": [
            "root\n",
            " |-- timestamp: timestamp (nullable = true)\n",
            " |-- sum(Total Killed): double (nullable = true)\n",
            " |-- sum(Total Injured): double (nullable = true)\n",
            " |-- YEAR: string (nullable = true)\n",
            "\n"
          ]
        }
      ],
      "source": [
        "selected_columns = ['timestamp','sum(Total Killed)', 'sum(Total Injured)', 'YEAR']\n",
        "timeSeriesDf = timeSeriesDf.select(selected_columns)\n",
        "timeSeriesDf.printSchema()"
      ]
    },
    {
      "cell_type": "markdown",
      "source": [
        "## Missing Vlue"
      ],
      "metadata": {
        "id": "AOBIXEnUTN0M"
      }
    },
    {
      "cell_type": "code",
      "source": [
        "from pyspark.sql import SparkSession, functions as F\n",
        "\n",
        "spark = SparkSession.builder.appName(\"MissingValueCheck\").getOrCreate()\n",
        "column_names =timeSeriesDf.columns\n",
        "null_value_counts = timeSeriesDf.select(*[F.count(F.when(F.col(col).isNull(), col)).alias(col) for col in column_names])\n",
        "null_value_counts.show()\n",
        "total_nulls_timeSeriesDf = timeSeriesDf.select(F.sum(F.size(F.array(*[F.col(col).isNull() for col in column_names]))).alias(\"Total Null Values\"))"
      ],
      "metadata": {
        "colab": {
          "base_uri": "https://localhost:8080/"
        },
        "id": "ZErTNyFlSQFO",
        "outputId": "2a6326ba-b265-47f1-e40c-badd58640e2c"
      },
      "execution_count": 162,
      "outputs": [
        {
          "output_type": "stream",
          "name": "stdout",
          "text": [
            "+---------+-----------------+------------------+----+\n",
            "|timestamp|sum(Total Killed)|sum(Total Injured)|YEAR|\n",
            "+---------+-----------------+------------------+----+\n",
            "|        9|                1|                 1|   1|\n",
            "+---------+-----------------+------------------+----+\n",
            "\n"
          ]
        }
      ]
    },
    {
      "cell_type": "code",
      "source": [
        "# Handle null values\n",
        "from pyspark.ml.feature import Imputer\n",
        "imputer = Imputer(inputCols=[\"sum(Total Killed)\",\"sum(Total Injured)\"],\n",
        "                  outputCols=[\"sum(Total Killed)\",\"sum(Total Injured)\"])\n",
        "timeSeriesDf = imputer.fit(timeSeriesDf).transform(timeSeriesDf)"
      ],
      "metadata": {
        "id": "3c859plDSkZA"
      },
      "execution_count": 163,
      "outputs": []
    },
    {
      "cell_type": "code",
      "source": [
        "from pyspark.sql import SparkSession, functions as F\n",
        "\n",
        "spark = SparkSession.builder.appName(\"MissingValueCheck\").getOrCreate()\n",
        "column_names =timeSeriesDf.columns\n",
        "null_value_counts = timeSeriesDf.select(*[F.count(F.when(F.col(col).isNull(), col)).alias(col) for col in column_names])\n",
        "null_value_counts.show()\n",
        "total_nulls_timeSeriesDf = timeSeriesDf.select(F.sum(F.size(F.array(*[F.col(col).isNull() for col in column_names]))).alias(\"Total Null Values\"))"
      ],
      "metadata": {
        "colab": {
          "base_uri": "https://localhost:8080/"
        },
        "id": "4509wAXvSm7s",
        "outputId": "a1c4d910-b9ae-4790-f86a-11a34e59d1ac"
      },
      "execution_count": 164,
      "outputs": [
        {
          "output_type": "stream",
          "name": "stdout",
          "text": [
            "+---------+-----------------+------------------+----+\n",
            "|timestamp|sum(Total Killed)|sum(Total Injured)|YEAR|\n",
            "+---------+-----------------+------------------+----+\n",
            "|        9|                0|                 0|   1|\n",
            "+---------+-----------------+------------------+----+\n",
            "\n"
          ]
        }
      ]
    },
    {
      "cell_type": "markdown",
      "metadata": {
        "id": "WVRk7FxXNavs"
      },
      "source": [
        "## SPLITING"
      ]
    },
    {
      "cell_type": "code",
      "execution_count": 165,
      "metadata": {
        "colab": {
          "base_uri": "https://localhost:8080/"
        },
        "id": "Mwn97c9HNavs",
        "outputId": "a410df29-05b5-4ae9-b4e9-bd3b34972b0d"
      },
      "outputs": [
        {
          "output_type": "stream",
          "name": "stdout",
          "text": [
            "+-------------------+-----------------+------------------+----+\n",
            "|          timestamp|sum(Total Killed)|sum(Total Injured)|YEAR|\n",
            "+-------------------+-----------------+------------------+----+\n",
            "|2016-06-30 00:00:00|             58.0|           11299.0|2016|\n",
            "|2012-08-30 00:00:00|              0.0|               2.0|2012|\n",
            "|2018-07-30 00:00:00|             34.0|           10982.0|2018|\n",
            "|2018-06-30 00:00:00|             42.0|           11231.0|2018|\n",
            "|2018-03-30 00:00:00|             38.0|            9507.0|2018|\n",
            "+-------------------+-----------------+------------------+----+\n",
            "only showing top 5 rows\n",
            "\n",
            "+-------------------+-----------------+------------------+----+\n",
            "|          timestamp|sum(Total Killed)|sum(Total Injured)|YEAR|\n",
            "+-------------------+-----------------+------------------+----+\n",
            "|2023-11-30 00:00:00|              3.0|              71.0|2023|\n",
            "|2021-11-30 00:00:00|             46.0|            8819.0|2021|\n",
            "|2023-05-30 00:00:00|              0.0|             116.0|2023|\n",
            "|2022-05-30 00:00:00|             53.0|            9167.0|2022|\n",
            "|2023-09-30 00:00:00|              2.0|               7.0|2023|\n",
            "+-------------------+-----------------+------------------+----+\n",
            "only showing top 5 rows\n",
            "\n"
          ]
        }
      ],
      "source": [
        "# Data untuk tahun di bawah 2020\n",
        "train_set= timeSeriesDf.filter(timeSeriesDf.YEAR < 2020)\n",
        "train_set.show(5)\n",
        "\n",
        "# Data untuk tahun di atas 2020\n",
        "test_set= timeSeriesDf.filter(timeSeriesDf.YEAR > 2020)\n",
        "test_set.show(5)\n"
      ]
    },
    {
      "cell_type": "markdown",
      "metadata": {
        "id": "UifVIoBFNavt"
      },
      "source": [
        "## FEATURES IMPORTANCES"
      ]
    },
    {
      "cell_type": "code",
      "execution_count": 166,
      "metadata": {
        "colab": {
          "base_uri": "https://localhost:8080/"
        },
        "id": "jdnCDrzuNavt",
        "outputId": "b6e5cc6b-a2e1-45f8-8b3d-44a0560149b8"
      },
      "outputs": [
        {
          "output_type": "stream",
          "name": "stdout",
          "text": [
            "[[1.]]\n",
            "\n",
            "[[1.]]\n",
            "\n"
          ]
        }
      ],
      "source": [
        "from pyspark.ml.stat import Correlation\n",
        "from pyspark.ml.feature import VectorAssembler\n",
        "def show_matrix(matrix):\n",
        "    \"\"\"\n",
        "    function to print a matrix on screen\n",
        "    \"\"\"\n",
        "    print(matrix.collect()[0][matrix.columns[0]].toArray())\n",
        "    print()\n",
        "\n",
        "vector_col = \"features\"\n",
        "assembler = VectorAssembler(inputCols=[\"sum(Total Killed)\"], outputCol=vector_col)\n",
        "df_vector = assembler.transform(timeSeriesDf).select(vector_col)\n",
        "\n",
        "matrix_pearson = Correlation.corr(df_vector, vector_col)    #pearson is default\n",
        "matrix_spearman = Correlation.corr(df_vector, vector_col, \"spearman\")\n",
        "show_matrix(matrix_pearson)\n",
        "show_matrix(matrix_spearman)"
      ]
    },
    {
      "cell_type": "markdown",
      "source": [
        "## Times Series GBT: Total Killed"
      ],
      "metadata": {
        "id": "s2dd7Re4imLg"
      }
    },
    {
      "cell_type": "markdown",
      "source": [
        "## Feature Scaling"
      ],
      "metadata": {
        "id": "R9P3QpKjrZEQ"
      }
    },
    {
      "cell_type": "code",
      "execution_count": 167,
      "metadata": {
        "id": "JpY98ByoNavt"
      },
      "outputs": [],
      "source": [
        "from pyspark.sql.functions import mean as _mean, stddev as _stddev, col, udf\n",
        "from pyspark.sql.types import FloatType, StructType, ArrayType\n",
        "\n",
        "train_set_stats = train_set.select(\n",
        "    _mean(col('sum(Total Killed)')).alias('mean'),\n",
        "    _stddev(col('sum(Total Killed)')).alias('std')\n",
        ").collect()\n",
        "mean = train_set_stats[0]['mean']    #mean of close prices\n",
        "std = train_set_stats[0]['std']    #standard deviation of close prices\n",
        "\n",
        "@udf(returnType=FloatType())\n",
        "def tanh_estimator(x):\n",
        "    \"\"\"\n",
        "    user defined function, applies tanh estimator's formula to a feature value x\n",
        "    \"\"\"\n",
        "    return (float)(0.5 * (np.tanh(0.01*(x-mean)/std) + 1))\n",
        "\n",
        "def scale_transform(timeSeriesDf):\n",
        "    \"\"\"\n",
        "    tranforms a dataframe applying tanh estimator udf\n",
        "    \"\"\"\n",
        "    return timeSeriesDf.select(\"YEAR\", tanh_estimator(\"sum(Total Killed)\").alias(\"sum(Total Killed)\"))\n",
        "\n",
        "scaled_train_set = scale_transform(train_set)\n",
        "scaled_test_set = scale_transform(test_set)"
      ]
    },
    {
      "cell_type": "markdown",
      "source": [
        "## Sliding Window"
      ],
      "metadata": {
        "id": "5dEoqmaMrdjn"
      }
    },
    {
      "cell_type": "code",
      "source": [
        "from pyspark.sql.window import Window\n",
        "\n",
        "def slide_window(df, window_size):\n",
        "    w=Window.orderBy(\"YEAR\")\n",
        "    indexed_df=timeSeriesDf.withColumn(\"Index\", row_number().over(w)).select(\"Index\",\"sum(Total Killed)\")\n",
        "    schema=StructType([StructField(\"sum(Total Killed)\", ArrayType(FloatType()),False)])\n",
        "    X=spark.createDataFrame(spark.sparkContext.emptyRDD(),schema )\n",
        "    y=spark.createDataFrame(spark.sparkContext.emptyRDD(),FloatType())\n",
        "    length=indexed_df.count()\n",
        "    for i in range(window_size+1, length+1):\n",
        "        new_df=indexed_df.where(col(\"Index\").between(i-window_size, i-1)).select(\"sum(Total Killed)\")\n",
        "        new_row=new_df.agg(collect_list(\"sum(Total Killed)\").alias(\"sum(Total Killed)\"))\n",
        "        X=X.union(new_row)\n",
        "        new_row = indexed_df.where(col(\"Index\") == i).select(\"sum(Total Killed)\")\n",
        "        y=y.union(new_row)\n",
        "\n",
        "    return X, y"
      ],
      "metadata": {
        "id": "56do2TtsWkdo"
      },
      "execution_count": 168,
      "outputs": []
    },
    {
      "cell_type": "code",
      "source": [
        "window=30    #window size\n",
        "X_train,y_train=slide_window(scaled_train_set, window)    #slide window on train set\n",
        "X_test,y_test=slide_window(scaled_test_set, window)    #slide window on test set"
      ],
      "metadata": {
        "id": "CJuH7wK1W513"
      },
      "execution_count": 169,
      "outputs": []
    },
    {
      "cell_type": "code",
      "source": [],
      "metadata": {
        "id": "2FnPrA4hrgwb"
      },
      "execution_count": null,
      "outputs": []
    },
    {
      "cell_type": "markdown",
      "source": [
        "## Merge X&Y"
      ],
      "metadata": {
        "id": "7uLqEjIJrhzF"
      }
    },
    {
      "cell_type": "code",
      "source": [
        "def merge_X_y(X, y):\n",
        "    \"\"\"\n",
        "    merges two dataframes column-wise\n",
        "    \"\"\"\n",
        "    schema = StructType(X.schema.fields + y.schema.fields)\n",
        "    X_y = X.rdd.zip(y.rdd).map(lambda x: x[0]+x[1])\n",
        "    return spark.createDataFrame(X_y, schema)\n",
        "\n",
        "X_y_train = merge_X_y(X_train, y_train)\n",
        "X_y_test = merge_X_y(X_test, y_test)"
      ],
      "metadata": {
        "id": "DmDCO4JeXKjl"
      },
      "execution_count": 170,
      "outputs": []
    },
    {
      "cell_type": "markdown",
      "source": [
        "## Vectorization Window"
      ],
      "metadata": {
        "id": "U5Fd_My3rmXm"
      }
    },
    {
      "cell_type": "code",
      "source": [
        "from pyspark.ml.linalg import Vectors, VectorUDT\n",
        "from pyspark.sql.functions import udf\n",
        "from pyspark import StorageLevel\n",
        "\n",
        "list_to_vector_udf=udf(lambda l: Vectors.dense(l), VectorUDT())\n",
        "def assemble_window(X_y):\n",
        "    \"\"\"\n",
        "    applies list_to_vector_udf to given dataframe\n",
        "    \"\"\"\n",
        "    return X_y.select(list_to_vector_udf(X_y[\"sum(Total Killed)\"]).alias(\"features\"), X_y[\"value\"].alias(\"label\"))\n",
        "X_y_train_vec=assemble_window(X_y_train)\n",
        "X_y_test_vec=assemble_window(X_y_test)"
      ],
      "metadata": {
        "id": "sOPYvhWyXoFC"
      },
      "execution_count": 171,
      "outputs": []
    },
    {
      "cell_type": "markdown",
      "source": [
        "## Hyperparameter tuning/model selection/evaluation"
      ],
      "metadata": {
        "id": "iCC0zvGSrrGJ"
      }
    },
    {
      "cell_type": "code",
      "source": [
        "from pyspark.ml.tuning import ParamGridBuilder, CrossValidator, CrossValidatorModel\n",
        "from pyspark.ml.evaluation import RegressionEvaluator\n",
        "\n",
        "def cross_validate(model, param_grid, df):\n",
        "    evaluator=RegressionEvaluator(metricName=\"rmse\")\n",
        "    cv=CrossValidator(estimator=model, estimatorParamMaps=param_grid, evaluator=evaluator)\n",
        "    validated_model=cv.fit(df)\n",
        "    return validated_model"
      ],
      "metadata": {
        "id": "4aNdG21jYFN-"
      },
      "execution_count": 172,
      "outputs": []
    },
    {
      "cell_type": "markdown",
      "source": [
        "## Model GBT"
      ],
      "metadata": {
        "id": "Tg7NESmqrxi_"
      }
    },
    {
      "cell_type": "code",
      "source": [
        "from pyspark.sql import SparkSession\n",
        "from pyspark.ml.feature import VectorAssembler\n",
        "from pyspark.ml.regression import GBTRegressor\n",
        "from pyspark.ml.evaluation import RegressionEvaluator\n",
        "from pyspark.ml.tuning import ParamGridBuilder, CrossValidator\n",
        "\n",
        "# Inisialisasi Spark session\n",
        "spark = SparkSession.builder.appName(\"GBTRegressionTimeSeries\").getOrCreate()\n",
        "\n",
        "# Contoh: Membuat lag features\n",
        "from pyspark.sql.window import Window\n",
        "from pyspark.sql.functions import lag\n",
        "\n",
        "windowSpec = Window.orderBy(\"Year\")\n",
        "timeSeriesDf = timeSeriesDf.withColumn(\"lag1\", lag(\"sum(Total Killed)\", 1).over(windowSpec))\n",
        "timeSeriesDf = timeSeriesDf.withColumn(\"lag2\", lag(\"sum(Total Killed)\", 2).over(windowSpec))\n",
        "\n",
        "# Buang nilai null karena lag menghasilkan nilai null untuk beberapa baris pertama\n",
        "timeSeriesDf = timeSeriesDf.na.drop()\n",
        "\n",
        "# Vektor fitur\n",
        "assembler = VectorAssembler(inputCols=[\"lag1\", \"lag2\"], outputCol=\"features\")\n",
        "timeSeriesDf = assembler.transform(timeSeriesDf)\n",
        "\n",
        "# Bagi data menjadi data latih dan data uji\n",
        "train_data, test_data = timeSeriesDf.randomSplit([0.8, 0.2], seed=42)\n",
        "\n",
        "# Inisialisasi model GBTRegressor\n",
        "gbt_r = GBTRegressor(featuresCol=\"features\", labelCol=\"sum(Total Killed)\")\n",
        "\n",
        "# Parameter grid untuk tuning\n",
        "param_grid = ParamGridBuilder() \\\n",
        "    .addGrid(gbt_r.maxDepth, [4, 8, 12]) \\\n",
        "    .addGrid(gbt_r.featureSubsetStrategy, ['0.33', '0.66']) \\\n",
        "    .build()\n",
        "\n",
        "# Evaluator\n",
        "evaluator = RegressionEvaluator(labelCol=\"sum(Total Killed)\", predictionCol=\"prediction\", metricName=\"rmse\")\n",
        "\n",
        "# CrossValidator\n",
        "crossval = CrossValidator(estimator=gbt_r,\n",
        "                          estimatorParamMaps=param_grid,\n",
        "                          evaluator=evaluator,\n",
        "                          numFolds=5)\n",
        "\n",
        "# Latih model menggunakan CrossValidator\n",
        "cvModel = crossval.fit(train_data)\n",
        "\n",
        "# Parameter terbaik\n",
        "bestModel = cvModel.bestModel\n",
        "max_depth = bestModel.getMaxDepth()\n",
        "subsample = bestModel.getFeatureSubsetStrategy()\n",
        "\n",
        "print(\"maxDepth of best model -> \", max_depth)\n",
        "print(\"featureSubsetStrategy of best model -> \", subsample)\n",
        "\n",
        "# Prediksi pada data uji\n",
        "predictions = bestModel.transform(test_data)\n",
        "\n",
        "# Evaluasi model\n",
        "RMSE = evaluator.evaluate(predictions)\n",
        "print(\"RMSE of best model on unseen data -> \", RMSE)"
      ],
      "metadata": {
        "colab": {
          "base_uri": "https://localhost:8080/"
        },
        "id": "NNZ-kAhcYMTQ",
        "outputId": "c0e16bc4-f4d3-492e-cfd4-adffd36f3c7a"
      },
      "execution_count": 173,
      "outputs": [
        {
          "output_type": "stream",
          "name": "stdout",
          "text": [
            "maxDepth of best model ->  4\n",
            "featureSubsetStrategy of best model ->  0.33\n",
            "RMSE of best model on unseen data ->  18.87902811873125\n"
          ]
        }
      ]
    },
    {
      "cell_type": "markdown",
      "source": [
        "## Visualisasi Prediksi GBT"
      ],
      "metadata": {
        "id": "Zats9r00r0gb"
      }
    },
    {
      "cell_type": "code",
      "source": [
        "import matplotlib.pyplot as plt\n",
        "import numpy as np\n",
        "\n",
        "def plot_predictions(predictions):\n",
        "  \"\"\"\n",
        "  Plots two lines representing predicted and actual prices.\n",
        "  \"\"\"\n",
        "  pandas_df = predictions.select('sum(Total Killed)', 'prediction').toPandas()\n",
        "\n",
        "  if 'Year' in pandas_df.columns:\n",
        "      years = pandas_df['Year'].values\n",
        "  else:\n",
        "      years = np.arange(2020, 2020 + pandas_df.shape[0])\n",
        "\n",
        "  plt.figure(figsize=(20, 7))\n",
        "  plt.title(\"Prediksi Total Meninggal: Model GBT\")\n",
        "  plt.plot(years, pandas_df['sum(Total Killed)'].values, label='Actual Total Killed', color='blue')\n",
        "  plt.plot(years, pandas_df['prediction'].values, label='Predicted Total Killed', color='red')\n",
        "  plt.xticks(years)  # Set x-axis ticks to extracted years\n",
        "  plt.xlabel('Year')\n",
        "  plt.ylabel('Predict Total Killed)')\n",
        "  plt.legend()\n",
        "  plt.show()\n",
        "\n",
        "# Gunakan fungsi plot_predictions\n",
        "plot_predictions(predictions)"
      ],
      "metadata": {
        "colab": {
          "base_uri": "https://localhost:8080/",
          "height": 625
        },
        "id": "H7a9_2SeopJ0",
        "outputId": "da6865c2-637f-4387-ea2e-b5b4fd1d79a9"
      },
      "execution_count": 185,
      "outputs": [
        {
          "output_type": "display_data",
          "data": {
            "text/plain": [
              "<Figure size 2000x700 with 1 Axes>"
            ],
            "image/png": "[encoded data removed]"
          },
          "metadata": {}
        }
      ]
    }
  ],
  "metadata": {
    "kernelspec": {
      "display_name": ".venv",
      "language": "python",
      "name": "python3"
    },
    "language_info": {
      "codemirror_mode": {
        "name": "ipython",
        "version": 3
      },
      "file_extension": ".py",
      "mimetype": "text/x-python",
      "name": "python",
      "nbconvert_exporter": "python",
      "pygments_lexer": "ipython3",
      "version": "3.12.2"
    },
    "colab": {
      "provenance": []
    }
  },
  "nbformat": 4,
  "nbformat_minor": 0
}